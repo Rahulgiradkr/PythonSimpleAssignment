{
 "cells": [
  {
   "cell_type": "markdown",
   "metadata": {
    "id": "po5zPkqfvIXV"
   },
   "source": [
    "# Assignment #006\n"
   ]
  },
  {
   "cell_type": "code",
   "execution_count": null,
   "metadata": {
    "colab": {
     "base_uri": "https://localhost:8080/"
    },
    "id": "A5Em1XX5vQZr",
    "outputId": "f11c1a81-5ef1-4ea6-d85f-32e4e1b85555"
   },
   "outputs": [],
   "source": []
  },
  {
   "cell_type": "markdown",
   "metadata": {
    "id": "CdwdJ2sDUwLz"
   },
   "source": [
    "## Question 01\n",
    "\n",
    "What are escape characters, and how do you use them?\n",
    "\n",
    "#### Solution\n",
    "\n",
    "An escape character is a backslash `\\` followed by the character you want to insert.\n",
    "\n",
    "\n"
   ]
  },
  {
   "cell_type": "code",
   "execution_count": 2,
   "metadata": {
    "colab": {
     "base_uri": "https://localhost:8080/",
     "height": 136
    },
    "id": "g6s-W3eCU2oD",
    "outputId": "b7ce7ea0-b54b-420d-cff1-a9a0de0ae37f"
   },
   "outputs": [
    {
     "ename": "SyntaxError",
     "evalue": "ignored",
     "output_type": "error",
     "traceback": [
      "\u001b[0;36m  File \u001b[0;32m\"<ipython-input-2-a65340bb0039>\"\u001b[0;36m, line \u001b[0;32m1\u001b[0m\n\u001b[0;31m    print('I'm Pretty Sure 'Exploring' Is Code')\u001b[0m\n\u001b[0m             ^\u001b[0m\n\u001b[0;31mSyntaxError\u001b[0m\u001b[0;31m:\u001b[0m invalid syntax\n"
     ]
    }
   ],
   "source": [
    "print('I'm Pretty Sure 'Exploring' Is Code')"
   ]
  },
  {
   "cell_type": "code",
   "execution_count": 3,
   "metadata": {
    "colab": {
     "base_uri": "https://localhost:8080/"
    },
    "id": "VHjCGotWTvzD",
    "outputId": "f973bf3f-201c-4870-fc11-62ab38b7d6a8"
   },
   "outputs": [
    {
     "name": "stdout",
     "output_type": "stream",
     "text": [
      "I'm Pretty Sure 'Exploring' Is Code\n"
     ]
    }
   ],
   "source": [
    "print('I\\'m Pretty Sure \\'Exploring\\' Is Code')"
   ]
  },
  {
   "cell_type": "markdown",
   "metadata": {
    "id": "5lEm7MRGVFeS"
   },
   "source": [
    "## Question 02\n",
    "\n",
    "What do the escape characters `\\n` and `\\t` stand for?\n",
    "\n",
    "#### Solution\n",
    "\n",
    "- `\\n` : New line escape character\n",
    "- `\\t` : Tab space escape character "
   ]
  },
  {
   "cell_type": "code",
   "execution_count": 4,
   "metadata": {
    "colab": {
     "base_uri": "https://localhost:8080/"
    },
    "id": "xwVcHB8-U8i3",
    "outputId": "da39d35c-a4e7-4f31-ac19-495c219904c9"
   },
   "outputs": [
    {
     "name": "stdout",
     "output_type": "stream",
     "text": [
      "Hello!!!\n",
      "I'm Groot.\n"
     ]
    }
   ],
   "source": [
    "# Use of \\n\n",
    "print(\"Hello!!!\\nI'm Groot.\")"
   ]
  },
  {
   "cell_type": "code",
   "execution_count": 5,
   "metadata": {
    "colab": {
     "base_uri": "https://localhost:8080/"
    },
    "id": "s6UB6JVaUNnx",
    "outputId": "dd226801-2fb3-4284-ce9c-9fc1fd5b33f3"
   },
   "outputs": [
    {
     "name": "stdout",
     "output_type": "stream",
     "text": [
      "Hello!!!\tI'm Groot.\n"
     ]
    }
   ],
   "source": [
    "# Use of \\t\n",
    "print(\"Hello!!!\\tI'm Groot.\")"
   ]
  },
  {
   "cell_type": "markdown",
   "metadata": {
    "id": "jLwIMnpcVY2z"
   },
   "source": [
    "## Question 03\n",
    "\n",
    "What is the way to include backslash character in a string?\n",
    "\n",
    "#### Solution\n",
    "\n",
    "A blackslash character can be introduced with double blackslash characters."
   ]
  },
  {
   "cell_type": "code",
   "execution_count": 6,
   "metadata": {
    "colab": {
     "base_uri": "https://localhost:8080/",
     "height": 136
    },
    "id": "BA3tjYCzVXGE",
    "outputId": "d7f5783f-4447-4936-9e2a-d8a54b87239b"
   },
   "outputs": [
    {
     "ename": "SyntaxError",
     "evalue": "ignored",
     "output_type": "error",
     "traceback": [
      "\u001b[0;36m  File \u001b[0;32m\"<ipython-input-6-d9068f19e013>\"\u001b[0;36m, line \u001b[0;32m2\u001b[0m\n\u001b[0;31m    print('\\')\u001b[0m\n\u001b[0m              ^\u001b[0m\n\u001b[0;31mSyntaxError\u001b[0m\u001b[0;31m:\u001b[0m EOL while scanning string literal\n"
     ]
    }
   ],
   "source": [
    "# Using single backslash character\n",
    "print('\\')"
   ]
  },
  {
   "cell_type": "code",
   "execution_count": 7,
   "metadata": {
    "colab": {
     "base_uri": "https://localhost:8080/"
    },
    "id": "QKL3BZQLWMed",
    "outputId": "236b88b3-6b94-4b5d-babd-8d5e5b4445c9"
   },
   "outputs": [
    {
     "name": "stdout",
     "output_type": "stream",
     "text": [
      "\\\n"
     ]
    }
   ],
   "source": [
    "print('\\\\')"
   ]
  },
  {
   "cell_type": "markdown",
   "metadata": {
    "id": "P8Jrh5mcWWCl"
   },
   "source": [
    "## Question 04\n",
    "\n",
    "The string \"Howl's Moving Castle\" is a correct value. Why isn't the single quote character in the word Howl's not escaped a problem?\n",
    "\n",
    "#### Solution\n",
    "\n",
    "Because the complete string is enclosed under double quotes."
   ]
  },
  {
   "cell_type": "code",
   "execution_count": 8,
   "metadata": {
    "colab": {
     "base_uri": "https://localhost:8080/",
     "height": 136
    },
    "id": "H1KgruU5WSg9",
    "outputId": "3a70c834-4a06-48e5-bf99-52c0eb652c05"
   },
   "outputs": [
    {
     "ename": "SyntaxError",
     "evalue": "ignored",
     "output_type": "error",
     "traceback": [
      "\u001b[0;36m  File \u001b[0;32m\"<ipython-input-8-5c636cb85b09>\"\u001b[0;36m, line \u001b[0;32m2\u001b[0m\n\u001b[0;31m    print('Howl's Moving Castle')\u001b[0m\n\u001b[0m                ^\u001b[0m\n\u001b[0;31mSyntaxError\u001b[0m\u001b[0;31m:\u001b[0m invalid syntax\n"
     ]
    }
   ],
   "source": [
    "# if string was enclosed in single quotes it would have been a problem\n",
    "print('Howl's Moving Castle')"
   ]
  },
  {
   "cell_type": "code",
   "execution_count": 9,
   "metadata": {
    "colab": {
     "base_uri": "https://localhost:8080/"
    },
    "id": "1On1x2eOVOgY",
    "outputId": "67f88cf2-6ddc-4041-b7f1-605fd8aac63b"
   },
   "outputs": [
    {
     "name": "stdout",
     "output_type": "stream",
     "text": [
      "Howl's Moving Castle\n"
     ]
    }
   ],
   "source": [
    "# adding backslash\n",
    "print('Howl\\'s Moving Castle')"
   ]
  },
  {
   "cell_type": "markdown",
   "metadata": {
    "id": "atKOix8vWnJ1"
   },
   "source": [
    "## Question 05\n",
    "\n",
    "How do you write a string of newlines if you don't want to use the n character?\n",
    "\n",
    "#### Solution\n",
    "\n",
    "By default print statements add a new line character at the end of the string. We have to use multiline approach."
   ]
  },
  {
   "cell_type": "code",
   "execution_count": 10,
   "metadata": {
    "colab": {
     "base_uri": "https://localhost:8080/"
    },
    "id": "S_c1lkaBWliB",
    "outputId": "adfc03f1-09c6-49d8-bb8f-61e785fb51f9"
   },
   "outputs": [
    {
     "name": "stdout",
     "output_type": "stream",
     "text": [
      "Hello\n",
      "World\n"
     ]
    }
   ],
   "source": [
    "print(\"Hello\")\n",
    "print(\"World\")"
   ]
  },
  {
   "cell_type": "markdown",
   "metadata": {
    "id": "Ht9I3U3QYx3-"
   },
   "source": [
    "## Question 06\n",
    "\n",
    "What are the values of the given expressions?\n",
    "\n",
    "```python\n",
    "    'Hello, world!'[1]\n",
    "    'Hello, world!'[0:5]\n",
    "    'Hello, world!'[:5]\n",
    "    'Hello, world!'[3:]\n",
    "```\n",
    "\n",
    "#### Solution\n"
   ]
  },
  {
   "cell_type": "code",
   "execution_count": 11,
   "metadata": {
    "id": "yCaal0UYYqGu"
   },
   "outputs": [],
   "source": [
    "s = \"Hello, world!\""
   ]
  },
  {
   "cell_type": "code",
   "execution_count": 12,
   "metadata": {
    "colab": {
     "base_uri": "https://localhost:8080/",
     "height": 36
    },
    "id": "s0SXjaHhZKPr",
    "outputId": "93fec512-fc0c-46dd-cfd6-236346a3e4b3"
   },
   "outputs": [
    {
     "data": {
      "application/vnd.google.colaboratory.intrinsic+json": {
       "type": "string"
      },
      "text/plain": [
       "'e'"
      ]
     },
     "execution_count": 12,
     "metadata": {},
     "output_type": "execute_result"
    }
   ],
   "source": [
    "s[1]"
   ]
  },
  {
   "cell_type": "code",
   "execution_count": 13,
   "metadata": {
    "colab": {
     "base_uri": "https://localhost:8080/",
     "height": 36
    },
    "id": "K6klCpvIZRT7",
    "outputId": "64dfe8ed-4eb4-4df8-8ed2-755ae32835de"
   },
   "outputs": [
    {
     "data": {
      "application/vnd.google.colaboratory.intrinsic+json": {
       "type": "string"
      },
      "text/plain": [
       "'Hello'"
      ]
     },
     "execution_count": 13,
     "metadata": {},
     "output_type": "execute_result"
    }
   ],
   "source": [
    "s[0:5]"
   ]
  },
  {
   "cell_type": "code",
   "execution_count": 14,
   "metadata": {
    "colab": {
     "base_uri": "https://localhost:8080/",
     "height": 36
    },
    "id": "hf3CMTh7ZOAS",
    "outputId": "011d43eb-0eab-465f-8025-a8c24a30bbc0"
   },
   "outputs": [
    {
     "data": {
      "application/vnd.google.colaboratory.intrinsic+json": {
       "type": "string"
      },
      "text/plain": [
       "'Hello'"
      ]
     },
     "execution_count": 14,
     "metadata": {},
     "output_type": "execute_result"
    }
   ],
   "source": [
    "s[:5]"
   ]
  },
  {
   "cell_type": "code",
   "execution_count": 15,
   "metadata": {
    "colab": {
     "base_uri": "https://localhost:8080/",
     "height": 36
    },
    "id": "DfqU-WD1WoVm",
    "outputId": "514bdc78-5b1b-40ca-f9dc-9e25e0165b13"
   },
   "outputs": [
    {
     "data": {
      "application/vnd.google.colaboratory.intrinsic+json": {
       "type": "string"
      },
      "text/plain": [
       "'lo, world!'"
      ]
     },
     "execution_count": 15,
     "metadata": {},
     "output_type": "execute_result"
    }
   ],
   "source": [
    "s[3:]"
   ]
  },
  {
   "cell_type": "markdown",
   "metadata": {
    "id": "IIjtkBoXZvdY"
   },
   "source": [
    "## Question 07\n",
    "\n",
    "What are the values of the following expressions?\n",
    "\n",
    "```python\n",
    "    'Hello'.upper()\n",
    "    'Hello'.upper().isupper()\n",
    "    'Hello'.upper().lower()\n",
    "```\n",
    "\n",
    "### Solution"
   ]
  },
  {
   "cell_type": "code",
   "execution_count": 16,
   "metadata": {
    "id": "TXeOe2gyZUZV"
   },
   "outputs": [],
   "source": [
    "s = \"Hello\""
   ]
  },
  {
   "cell_type": "code",
   "execution_count": 17,
   "metadata": {
    "colab": {
     "base_uri": "https://localhost:8080/",
     "height": 36
    },
    "id": "9qglAW5vaeFL",
    "outputId": "42a6c8b2-b81e-4b8b-ffee-62f3dbc4e904"
   },
   "outputs": [
    {
     "data": {
      "application/vnd.google.colaboratory.intrinsic+json": {
       "type": "string"
      },
      "text/plain": [
       "'HELLO'"
      ]
     },
     "execution_count": 17,
     "metadata": {},
     "output_type": "execute_result"
    }
   ],
   "source": [
    "s.upper()"
   ]
  },
  {
   "cell_type": "code",
   "execution_count": 18,
   "metadata": {
    "colab": {
     "base_uri": "https://localhost:8080/"
    },
    "id": "qBOlXsjPajeU",
    "outputId": "963b0df9-fe1b-4450-e124-f433796ec52c"
   },
   "outputs": [
    {
     "data": {
      "text/plain": [
       "True"
      ]
     },
     "execution_count": 18,
     "metadata": {},
     "output_type": "execute_result"
    }
   ],
   "source": [
    "s.upper().isupper()"
   ]
  },
  {
   "cell_type": "code",
   "execution_count": 19,
   "metadata": {
    "colab": {
     "base_uri": "https://localhost:8080/",
     "height": 36
    },
    "id": "w9Dt-WuQW3mP",
    "outputId": "da422ddb-5080-4539-90d2-3186a50b0ab7"
   },
   "outputs": [
    {
     "data": {
      "application/vnd.google.colaboratory.intrinsic+json": {
       "type": "string"
      },
      "text/plain": [
       "'hello'"
      ]
     },
     "execution_count": 19,
     "metadata": {},
     "output_type": "execute_result"
    }
   ],
   "source": [
    "s.upper().lower()"
   ]
  },
  {
   "cell_type": "markdown",
   "metadata": {
    "id": "TCEOSD6oasaY"
   },
   "source": [
    "## Question 08\n",
    "\n",
    "What are the values of the following expressions?\n",
    "\n",
    "#### Solution\n",
    "\n",
    "```python\n",
    "    'Remember, remember, the fifth of July.'.split()\n",
    "    '-'.join('There can only one.'.split())\n",
    "```"
   ]
  },
  {
   "cell_type": "code",
   "execution_count": 20,
   "metadata": {
    "colab": {
     "base_uri": "https://localhost:8080/"
    },
    "id": "_Wrjx3wNapm7",
    "outputId": "2f0b5c43-7f7e-4e80-9ad7-c3b97a00957f"
   },
   "outputs": [
    {
     "data": {
      "text/plain": [
       "['Remember,', 'remember,', 'the', 'fifth', 'of', 'July.']"
      ]
     },
     "execution_count": 20,
     "metadata": {},
     "output_type": "execute_result"
    }
   ],
   "source": [
    "'Remember, remember, the fifth of July.'.split()"
   ]
  },
  {
   "cell_type": "code",
   "execution_count": 21,
   "metadata": {
    "colab": {
     "base_uri": "https://localhost:8080/",
     "height": 36
    },
    "id": "frAv15wMbENf",
    "outputId": "bc8f88f3-0908-4f41-98d8-bb4b4cf89a8d"
   },
   "outputs": [
    {
     "data": {
      "application/vnd.google.colaboratory.intrinsic+json": {
       "type": "string"
      },
      "text/plain": [
       "'There-can-only-one.'"
      ]
     },
     "execution_count": 21,
     "metadata": {},
     "output_type": "execute_result"
    }
   ],
   "source": [
    "'-'.join('There can only one.'.split())"
   ]
  },
  {
   "cell_type": "markdown",
   "metadata": {
    "id": "q97yidCaXIKg"
   },
   "source": [
    "## Question 09\n",
    "\n",
    "What are the methods for right-justifying, left-justifying, and centering a string?\n",
    "\n",
    "#### Solution"
   ]
  },
  {
   "cell_type": "code",
   "execution_count": 22,
   "metadata": {
    "colab": {
     "base_uri": "https://localhost:8080/"
    },
    "id": "RJfCoXesXdXH",
    "outputId": "29ef5858-8d8c-4d4d-b7cc-e494d5765188"
   },
   "outputs": [
    {
     "name": "stdout",
     "output_type": "stream",
     "text": [
      "Help on method_descriptor:\n",
      "\n",
      "rjust(self, width, fillchar=' ', /)\n",
      "    Return a right-justified string of length width.\n",
      "    \n",
      "    Padding is done using the specified fill character (default is a space).\n",
      "\n"
     ]
    }
   ],
   "source": [
    "help(str.rjust)"
   ]
  },
  {
   "cell_type": "code",
   "execution_count": 23,
   "metadata": {
    "colab": {
     "base_uri": "https://localhost:8080/"
    },
    "id": "CI2OKumWXe3N",
    "outputId": "e0ef0462-68cb-416e-8de2-9dfb87eab107"
   },
   "outputs": [
    {
     "name": "stdout",
     "output_type": "stream",
     "text": [
      "$$$$$hello\n"
     ]
    }
   ],
   "source": [
    "s = \"hello\"\n",
    "length = 10\n",
    "fillchars = \"$\"\n",
    "\n",
    "print(s.rjust(length, fillchars))"
   ]
  },
  {
   "cell_type": "code",
   "execution_count": 24,
   "metadata": {
    "colab": {
     "base_uri": "https://localhost:8080/"
    },
    "id": "K2V4SeXoXuzu",
    "outputId": "789ca1d3-c490-4401-a5e8-cd5cb7d83a6a"
   },
   "outputs": [
    {
     "name": "stdout",
     "output_type": "stream",
     "text": [
      "Help on method_descriptor:\n",
      "\n",
      "ljust(self, width, fillchar=' ', /)\n",
      "    Return a left-justified string of length width.\n",
      "    \n",
      "    Padding is done using the specified fill character (default is a space).\n",
      "\n"
     ]
    }
   ],
   "source": [
    "help(str.ljust)"
   ]
  },
  {
   "cell_type": "code",
   "execution_count": 25,
   "metadata": {
    "colab": {
     "base_uri": "https://localhost:8080/"
    },
    "id": "D2LsjrItXzAP",
    "outputId": "32dfa53b-8cda-45d2-9654-0d60ac417dd3"
   },
   "outputs": [
    {
     "name": "stdout",
     "output_type": "stream",
     "text": [
      "hello$$$$$\n"
     ]
    }
   ],
   "source": [
    "s = \"hello\"\n",
    "length = 10\n",
    "fillchars = \"$\"\n",
    "\n",
    "print(s.ljust(length, fillchars))"
   ]
  },
  {
   "cell_type": "code",
   "execution_count": 26,
   "metadata": {
    "colab": {
     "base_uri": "https://localhost:8080/"
    },
    "id": "aygSFKoKX2YM",
    "outputId": "26015459-bc72-4aa4-8125-9f5d43c92c7e"
   },
   "outputs": [
    {
     "name": "stdout",
     "output_type": "stream",
     "text": [
      "Help on method_descriptor:\n",
      "\n",
      "center(self, width, fillchar=' ', /)\n",
      "    Return a centered string of length width.\n",
      "    \n",
      "    Padding is done using the specified fill character (default is a space).\n",
      "\n"
     ]
    }
   ],
   "source": [
    "help(str.center)"
   ]
  },
  {
   "cell_type": "code",
   "execution_count": 27,
   "metadata": {
    "colab": {
     "base_uri": "https://localhost:8080/"
    },
    "id": "I7fxhVu9X9ZT",
    "outputId": "4f1995b5-621c-4376-d5f5-e5045adbc5cf"
   },
   "outputs": [
    {
     "name": "stdout",
     "output_type": "stream",
     "text": [
      "$$hello$$$\n"
     ]
    }
   ],
   "source": [
    "s = \"hello\"\n",
    "length = 10\n",
    "fillchars = \"$\"\n",
    "\n",
    "print(s.center(length, fillchars))"
   ]
  },
  {
   "cell_type": "markdown",
   "metadata": {
    "id": "uXUROjVLYFB2"
   },
   "source": [
    "## Question 10\n",
    "\n",
    "What is the best way to remove whitespace characters from the start or end?\n",
    "\n",
    "#### Solution\n",
    "\n",
    "using `.strip()` function"
   ]
  },
  {
   "cell_type": "code",
   "execution_count": 28,
   "metadata": {
    "colab": {
     "base_uri": "https://localhost:8080/"
    },
    "id": "NnnRe4rjY5Vr",
    "outputId": "9dd33edb-e763-4acd-b409-7a2f0f2aedac"
   },
   "outputs": [
    {
     "name": "stdout",
     "output_type": "stream",
     "text": [
      "Help on method_descriptor:\n",
      "\n",
      "strip(self, chars=None, /)\n",
      "    Return a copy of the string with leading and trailing whitespace removed.\n",
      "    \n",
      "    If chars is given and not None, remove characters in chars instead.\n",
      "\n"
     ]
    }
   ],
   "source": [
    "help(str.strip)"
   ]
  },
  {
   "cell_type": "code",
   "execution_count": 29,
   "metadata": {
    "id": "GQvK9-alYBtu"
   },
   "outputs": [],
   "source": [
    "s = \"  Hello, I'm Groot. \" "
   ]
  },
  {
   "cell_type": "code",
   "execution_count": 30,
   "metadata": {
    "colab": {
     "base_uri": "https://localhost:8080/"
    },
    "id": "nkMhbFdpYSLj",
    "outputId": "c6579ba4-26c3-4ea3-ff43-2e7e0e7dcdbf"
   },
   "outputs": [
    {
     "name": "stdout",
     "output_type": "stream",
     "text": [
      "20\n",
      "  Hello, I'm Groot. \n"
     ]
    }
   ],
   "source": [
    "print(len(s))\n",
    "print(s)"
   ]
  },
  {
   "cell_type": "code",
   "execution_count": 31,
   "metadata": {
    "id": "dXymxnNBYTiK"
   },
   "outputs": [],
   "source": [
    "# remove whitespaces\n",
    "s = s.strip()"
   ]
  },
  {
   "cell_type": "code",
   "execution_count": 32,
   "metadata": {
    "colab": {
     "base_uri": "https://localhost:8080/"
    },
    "id": "5__R4i3cYaM8",
    "outputId": "6670ab72-4e59-4d3a-ea98-17361e5216a5"
   },
   "outputs": [
    {
     "name": "stdout",
     "output_type": "stream",
     "text": [
      "17\n",
      "Hello, I'm Groot.\n"
     ]
    }
   ],
   "source": [
    "print(len(s))\n",
    "print(s)"
   ]
  },
  {
   "cell_type": "code",
   "execution_count": null,
   "metadata": {
    "id": "3UcKhIq1ufJP"
   },
   "outputs": [],
   "source": []
  }
 ],
 "metadata": {
  "colab": {
   "collapsed_sections": [],
   "name": "theory_06.ipynb",
   "provenance": []
  },
  "interpreter": {
   "hash": "32004c3298a2e7fb08ce908835c9b26629c2a794a7626af23329d63295bbeafe"
  },
  "kernelspec": {
   "display_name": "Python 3 (ipykernel)",
   "language": "python",
   "name": "python3"
  },
  "language_info": {
   "codemirror_mode": {
    "name": "ipython",
    "version": 3
   },
   "file_extension": ".py",
   "mimetype": "text/x-python",
   "name": "python",
   "nbconvert_exporter": "python",
   "pygments_lexer": "ipython3",
   "version": "3.11.5"
  }
 },
 "nbformat": 4,
 "nbformat_minor": 1
}
