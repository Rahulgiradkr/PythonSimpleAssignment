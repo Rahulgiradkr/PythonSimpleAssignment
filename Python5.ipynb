{
 "cells": [
  {
   "cell_type": "markdown",
   "metadata": {
    "id": "po5zPkqfvIXV"
   },
   "source": [
    "# Assignment #005"
   ]
  },
  {
   "cell_type": "code",
   "execution_count": null,
   "metadata": {
    "colab": {
     "base_uri": "https://localhost:8080/"
    },
    "id": "A5Em1XX5vQZr",
    "outputId": "839f864d-3fb7-45e1-ba3a-b633f4749c27"
   },
   "outputs": [],
   "source": []
  },
  {
   "cell_type": "markdown",
   "metadata": {
    "id": "CdwdJ2sDUwLz"
   },
   "source": [
    "## Question 01\n",
    "\n",
    "What does an empty dictionary's code look like?\n",
    "\n",
    "#### Solution"
   ]
  },
  {
   "cell_type": "code",
   "execution_count": 2,
   "metadata": {
    "colab": {
     "base_uri": "https://localhost:8080/"
    },
    "id": "g6s-W3eCU2oD",
    "outputId": "296fc171-4c00-4b1b-c28d-7a4afdc8d549"
   },
   "outputs": [
    {
     "data": {
      "text/plain": [
       "({}, dict)"
      ]
     },
     "execution_count": 2,
     "metadata": {},
     "output_type": "execute_result"
    }
   ],
   "source": [
    "my_dict = {}\n",
    "my_dict, type(my_dict)"
   ]
  },
  {
   "cell_type": "markdown",
   "metadata": {
    "id": "5lEm7MRGVFeS"
   },
   "source": [
    "## Question 02\n",
    "\n",
    "What is the value of a dictionary value with the key 'foo' and the value 42?\n",
    "\n",
    "#### Solution\n",
    "\n"
   ]
  },
  {
   "cell_type": "code",
   "execution_count": 3,
   "metadata": {
    "colab": {
     "base_uri": "https://localhost:8080/"
    },
    "id": "xwVcHB8-U8i3",
    "outputId": "be28680f-0c45-4c26-c441-ce0ba4657f9f"
   },
   "outputs": [
    {
     "name": "stdout",
     "output_type": "stream",
     "text": [
      "{'foo': 42}\n",
      "Values of dictionary : dict_values([42])\n"
     ]
    }
   ],
   "source": [
    "my_dict = {'foo' : 42}\n",
    "\n",
    "print(my_dict)\n",
    "print(f\"Values of dictionary : {my_dict.values()}\")"
   ]
  },
  {
   "cell_type": "markdown",
   "metadata": {
    "id": "jLwIMnpcVY2z"
   },
   "source": [
    "## Question 03\n",
    "\n",
    "What is the most significant distinction between a dictionary and a list?\n",
    "\n",
    "#### Solution\n",
    "\n",
    "Dictionaries are unordered collection of data points. It uses key, value structure to store the values.\n",
    "\n",
    "Lists have ordered items."
   ]
  },
  {
   "cell_type": "code",
   "execution_count": 4,
   "metadata": {
    "colab": {
     "base_uri": "https://localhost:8080/"
    },
    "id": "BA3tjYCzVXGE",
    "outputId": "e1756b03-7a9f-4ae8-c7d5-bd2ab81acb8a"
   },
   "outputs": [
    {
     "data": {
      "text/plain": [
       "[1, 2, 3, 4]"
      ]
     },
     "execution_count": 4,
     "metadata": {},
     "output_type": "execute_result"
    }
   ],
   "source": [
    "my_list = [1,2,3,4]\n",
    "my_list"
   ]
  },
  {
   "cell_type": "code",
   "execution_count": 5,
   "metadata": {
    "colab": {
     "base_uri": "https://localhost:8080/"
    },
    "id": "QKL3BZQLWMed",
    "outputId": "fa0d6638-3581-4139-96c2-0aa23262fe12"
   },
   "outputs": [
    {
     "data": {
      "text/plain": [
       "{'a': 1, 'foo': 43, 'la': 42}"
      ]
     },
     "execution_count": 5,
     "metadata": {},
     "output_type": "execute_result"
    }
   ],
   "source": [
    "my_dict = {'foo' : 43, 'la' : 42, 'a':1}\n",
    "my_dict"
   ]
  },
  {
   "cell_type": "markdown",
   "metadata": {
    "id": "P8Jrh5mcWWCl"
   },
   "source": [
    "## Question 04\n",
    "\n",
    "What happens if you try to access spam['foo'] if spam is {'bar': 100}?\n",
    "\n",
    "#### Solution\n"
   ]
  },
  {
   "cell_type": "code",
   "execution_count": 6,
   "metadata": {
    "colab": {
     "base_uri": "https://localhost:8080/"
    },
    "id": "H1KgruU5WSg9",
    "outputId": "175a23ae-a2ff-4ae7-de24-3493715948e1"
   },
   "outputs": [
    {
     "data": {
      "text/plain": [
       "{'bar': 100}"
      ]
     },
     "execution_count": 6,
     "metadata": {},
     "output_type": "execute_result"
    }
   ],
   "source": [
    "# initialize dict\n",
    "my_dict = {'bar' : 100}\n",
    "my_dict"
   ]
  },
  {
   "cell_type": "code",
   "execution_count": 8,
   "metadata": {
    "colab": {
     "base_uri": "https://localhost:8080/",
     "height": 191
    },
    "id": "c0v1_EjgWh2q",
    "outputId": "b53afcb8-b55b-43be-e763-dc60eaad68ed"
   },
   "outputs": [
    {
     "ename": "KeyError",
     "evalue": "ignored",
     "output_type": "error",
     "traceback": [
      "\u001b[0;31m---------------------------------------------------------------------------\u001b[0m",
      "\u001b[0;31mKeyError\u001b[0m                                  Traceback (most recent call last)",
      "\u001b[0;32m<ipython-input-8-275b05e485f7>\u001b[0m in \u001b[0;36m<module>\u001b[0;34m()\u001b[0m\n\u001b[1;32m      1\u001b[0m \u001b[0;31m# accessing key 'foo'\u001b[0m\u001b[0;34m\u001b[0m\u001b[0;34m\u001b[0m\u001b[0;34m\u001b[0m\u001b[0m\n\u001b[0;32m----> 2\u001b[0;31m \u001b[0mmy_dict\u001b[0m\u001b[0;34m[\u001b[0m\u001b[0;34m'foo'\u001b[0m\u001b[0;34m]\u001b[0m\u001b[0;34m\u001b[0m\u001b[0;34m\u001b[0m\u001b[0m\n\u001b[0m",
      "\u001b[0;31mKeyError\u001b[0m: 'foo'"
     ]
    }
   ],
   "source": [
    "# accessing key 'foo'\n",
    "my_dict['foo']"
   ]
  },
  {
   "cell_type": "markdown",
   "metadata": {
    "id": "atKOix8vWnJ1"
   },
   "source": [
    "## Question 05\n",
    "\n",
    "If a dictionary is stored in spam, what is the difference between the expressions 'cat' in spam and 'cat' in spam.keys()?\n",
    "\n",
    "#### Solution\n",
    "\n",
    "`dict.keys()` returns a list of keys of the dictionary."
   ]
  },
  {
   "cell_type": "code",
   "execution_count": 9,
   "metadata": {
    "id": "S_c1lkaBWliB"
   },
   "outputs": [],
   "source": [
    "# initialize dictionary\n",
    "my_dict = {'dog': 1, 'cat': 2, 'parrot': 4}"
   ]
  },
  {
   "cell_type": "code",
   "execution_count": 10,
   "metadata": {
    "colab": {
     "base_uri": "https://localhost:8080/"
    },
    "id": "astzb-nYXEPZ",
    "outputId": "17e9487e-f4f0-4171-8c3a-57acd3019097"
   },
   "outputs": [
    {
     "data": {
      "text/plain": [
       "True"
      ]
     },
     "execution_count": 10,
     "metadata": {},
     "output_type": "execute_result"
    }
   ],
   "source": [
    "'cat' in my_dict"
   ]
  },
  {
   "cell_type": "code",
   "execution_count": 11,
   "metadata": {
    "colab": {
     "base_uri": "https://localhost:8080/"
    },
    "id": "NI0aMrMkXF5y",
    "outputId": "19d5820e-e42f-487f-9fdb-dec0ae4a2ded"
   },
   "outputs": [
    {
     "data": {
      "text/plain": [
       "True"
      ]
     },
     "execution_count": 11,
     "metadata": {},
     "output_type": "execute_result"
    }
   ],
   "source": [
    "'cat' in my_dict.keys()"
   ]
  },
  {
   "cell_type": "markdown",
   "metadata": {
    "id": "uXmM_BxyX2Fs"
   },
   "source": [
    "Maybe the difference is between time to access a key."
   ]
  },
  {
   "cell_type": "code",
   "execution_count": 12,
   "metadata": {
    "colab": {
     "base_uri": "https://localhost:8080/"
    },
    "id": "XQdT1_VZXIng",
    "outputId": "715d23cb-77da-4d9f-b96f-29086099f313"
   },
   "outputs": [
    {
     "name": "stdout",
     "output_type": "stream",
     "text": [
      "The slowest run took 27.43 times longer than the fastest. This could mean that an intermediate result is being cached.\n",
      "10000000 loops, best of 5: 53.3 ns per loop\n"
     ]
    }
   ],
   "source": [
    "%timeit('cat' in my_dict)"
   ]
  },
  {
   "cell_type": "code",
   "execution_count": 13,
   "metadata": {
    "colab": {
     "base_uri": "https://localhost:8080/"
    },
    "id": "N8bolA7XXRBZ",
    "outputId": "1498558c-fefc-4476-cfce-43d4d6ac6a1e"
   },
   "outputs": [
    {
     "name": "stdout",
     "output_type": "stream",
     "text": [
      "The slowest run took 25.88 times longer than the fastest. This could mean that an intermediate result is being cached.\n",
      "10000000 loops, best of 5: 120 ns per loop\n"
     ]
    }
   ],
   "source": [
    "%timeit('cat' in my_dict.keys())"
   ]
  },
  {
   "cell_type": "markdown",
   "metadata": {
    "id": "Ht9I3U3QYx3-"
   },
   "source": [
    "## Question 06\n",
    "\n",
    "If a dictionary is stored in spam, what is the difference between the expressions 'cat' in spam and 'cat' in spam.values()?\n",
    "\n",
    "#### Solution\n",
    "\n",
    "'cat' in spam checks if 'cat' key is presend in dictionary or not.\n",
    "\n",
    "'cat' in spam.values() check 'cat' value in any of the key of spam."
   ]
  },
  {
   "cell_type": "code",
   "execution_count": 14,
   "metadata": {
    "id": "yCaal0UYYqGu"
   },
   "outputs": [],
   "source": [
    "# initialize dictionary\n",
    "my_dict = {'dog': 1, 'cat': 2, 'parrot': 4}"
   ]
  },
  {
   "cell_type": "code",
   "execution_count": 15,
   "metadata": {
    "colab": {
     "base_uri": "https://localhost:8080/"
    },
    "id": "s0SXjaHhZKPr",
    "outputId": "d9ddb7ef-0393-4fa4-bba1-57f8eca7a78e"
   },
   "outputs": [
    {
     "data": {
      "text/plain": [
       "True"
      ]
     },
     "execution_count": 15,
     "metadata": {},
     "output_type": "execute_result"
    }
   ],
   "source": [
    "'cat' in my_dict"
   ]
  },
  {
   "cell_type": "code",
   "execution_count": 16,
   "metadata": {
    "colab": {
     "base_uri": "https://localhost:8080/"
    },
    "id": "K6klCpvIZRT7",
    "outputId": "2e0856a4-8549-478a-966f-caa754fb43da"
   },
   "outputs": [
    {
     "data": {
      "text/plain": [
       "dict_values([1, 2, 4])"
      ]
     },
     "execution_count": 16,
     "metadata": {},
     "output_type": "execute_result"
    }
   ],
   "source": [
    "my_dict.values()"
   ]
  },
  {
   "cell_type": "code",
   "execution_count": 17,
   "metadata": {
    "colab": {
     "base_uri": "https://localhost:8080/"
    },
    "id": "hf3CMTh7ZOAS",
    "outputId": "555bfc4b-2390-492f-dade-09adad530315"
   },
   "outputs": [
    {
     "data": {
      "text/plain": [
       "False"
      ]
     },
     "execution_count": 17,
     "metadata": {},
     "output_type": "execute_result"
    }
   ],
   "source": [
    "'cat' in my_dict.values()"
   ]
  },
  {
   "cell_type": "markdown",
   "metadata": {
    "id": "IIjtkBoXZvdY"
   },
   "source": [
    "## Question 07\n",
    "\n",
    "What is a shortcut for the following code?\n",
    "\n",
    "```python\n",
    "if 'color' not in spam:\n",
    "    spam['color'] = 'black'\n",
    "```\n",
    "\n",
    "### Solution"
   ]
  },
  {
   "cell_type": "code",
   "execution_count": 18,
   "metadata": {
    "colab": {
     "base_uri": "https://localhost:8080/"
    },
    "id": "TXeOe2gyZUZV",
    "outputId": "0e008998-22e7-4988-c44b-c0e593fdc9c3"
   },
   "outputs": [
    {
     "name": "stdout",
     "output_type": "stream",
     "text": [
      "Help on method_descriptor:\n",
      "\n",
      "setdefault(self, key, default=None, /)\n",
      "    Insert key with a value of default if key is not in the dictionary.\n",
      "    \n",
      "    Return the value for key if key is in the dictionary, else default.\n",
      "\n"
     ]
    }
   ],
   "source": [
    "help(dict.setdefault)"
   ]
  },
  {
   "cell_type": "code",
   "execution_count": 19,
   "metadata": {
    "colab": {
     "base_uri": "https://localhost:8080/",
     "height": 36
    },
    "id": "9qglAW5vaeFL",
    "outputId": "0cb6f664-d478-42e0-a055-0401daf83ec3"
   },
   "outputs": [
    {
     "data": {
      "application/vnd.google.colaboratory.intrinsic+json": {
       "type": "string"
      },
      "text/plain": [
       "'black'"
      ]
     },
     "execution_count": 19,
     "metadata": {},
     "output_type": "execute_result"
    }
   ],
   "source": [
    "spam = {}\n",
    "spam.setdefault('color', 'black')"
   ]
  },
  {
   "cell_type": "code",
   "execution_count": 20,
   "metadata": {
    "colab": {
     "base_uri": "https://localhost:8080/"
    },
    "id": "qBOlXsjPajeU",
    "outputId": "f29afab8-5f65-430e-9135-a0dbf18f6c38"
   },
   "outputs": [
    {
     "data": {
      "text/plain": [
       "{'color': 'black'}"
      ]
     },
     "execution_count": 20,
     "metadata": {},
     "output_type": "execute_result"
    }
   ],
   "source": [
    "spam"
   ]
  },
  {
   "cell_type": "markdown",
   "metadata": {
    "id": "TCEOSD6oasaY"
   },
   "source": [
    "## Question 08\n",
    "\n",
    "How do you \"pretty print\" dictionary values, using which module and function?\n",
    "\n",
    "#### Solution\n",
    "\n",
    "Using \"json\" module."
   ]
  },
  {
   "cell_type": "code",
   "execution_count": 21,
   "metadata": {
    "id": "_Wrjx3wNapm7"
   },
   "outputs": [],
   "source": [
    "my_dict = {'a' : {'name': 'Anne', 'Age': 22}, 'b' : {'name': 'Luke', 'Age': 55}}"
   ]
  },
  {
   "cell_type": "code",
   "execution_count": 22,
   "metadata": {
    "colab": {
     "base_uri": "https://localhost:8080/"
    },
    "id": "frAv15wMbENf",
    "outputId": "c1214747-23df-47ab-ee94-3437fba776ac"
   },
   "outputs": [
    {
     "name": "stdout",
     "output_type": "stream",
     "text": [
      "{'a': {'name': 'Anne', 'Age': 22}, 'b': {'name': 'Luke', 'Age': 55}}\n"
     ]
    }
   ],
   "source": [
    "print(my_dict)"
   ]
  },
  {
   "cell_type": "code",
   "execution_count": 23,
   "metadata": {
    "colab": {
     "base_uri": "https://localhost:8080/"
    },
    "id": "VnB-KQZHbFsT",
    "outputId": "72d1a04c-f191-457d-e299-40389e5a09c6"
   },
   "outputs": [
    {
     "name": "stdout",
     "output_type": "stream",
     "text": [
      "{\n",
      "    \"a\": {\n",
      "        \"name\": \"Anne\",\n",
      "        \"Age\": 22\n",
      "    },\n",
      "    \"b\": {\n",
      "        \"name\": \"Luke\",\n",
      "        \"Age\": 55\n",
      "    }\n",
      "}\n"
     ]
    }
   ],
   "source": [
    "import json\n",
    "\n",
    "print(json.dumps(my_dict, indent=4))"
   ]
  }
 ],
 "metadata": {
  "colab": {
   "collapsed_sections": [],
   "name": "theory_05.ipynb",
   "provenance": []
  },
  "interpreter": {
   "hash": "32004c3298a2e7fb08ce908835c9b26629c2a794a7626af23329d63295bbeafe"
  },
  "kernelspec": {
   "display_name": "Python 3 (ipykernel)",
   "language": "python",
   "name": "python3"
  },
  "language_info": {
   "codemirror_mode": {
    "name": "ipython",
    "version": 3
   },
   "file_extension": ".py",
   "mimetype": "text/x-python",
   "name": "python",
   "nbconvert_exporter": "python",
   "pygments_lexer": "ipython3",
   "version": "3.11.5"
  }
 },
 "nbformat": 4,
 "nbformat_minor": 1
}
