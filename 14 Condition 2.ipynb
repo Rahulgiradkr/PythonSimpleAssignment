{
 "cells": [
  {
   "cell_type": "code",
   "execution_count": 1,
   "id": "0bee3f08",
   "metadata": {},
   "outputs": [
    {
     "name": "stdout",
     "output_type": "stream",
     "text": [
      "Enter the mark\n",
      "67\n",
      "You passed in first class\n"
     ]
    }
   ],
   "source": [
    "mark = int(input(\"Enter the mark\\n\"))\n",
    "\n",
    "if mark < 0 or mark > 100: \n",
    "    print(\"Invalid marks are entered!\")\n",
    "elif mark >= 0 and mark < 35 :\n",
    "    print(\"Sorry you failed!\")\n",
    "elif mark >= 35 and mark < 80 :\n",
    "    print(\"You passed in first class\")\n",
    "else :\n",
    "    print(\"You got distinction!\")"
   ]
  },
  {
   "cell_type": "code",
   "execution_count": 2,
   "id": "0ff48dce",
   "metadata": {},
   "outputs": [
    {
     "name": "stdout",
     "output_type": "stream",
     "text": [
      "Enter the mark\n",
      "98\n",
      "You got distinction!\n"
     ]
    }
   ],
   "source": [
    "mark = int(input(\"Enter the mark\\n\"))\n",
    "\n",
    "if mark < 0 or mark > 100: \n",
    "    print(\"Invalid marks are entered!\")\n",
    "elif mark >= 0 and mark < 35 :\n",
    "    print(\"Sorry you failed!\")\n",
    "elif mark >= 35 and mark < 80 :\n",
    "    print(\"You passed in first class\")\n",
    "else :\n",
    "    print(\"You got distinction!\")"
   ]
  },
  {
   "cell_type": "code",
   "execution_count": 3,
   "id": "3a0d32ed",
   "metadata": {},
   "outputs": [
    {
     "name": "stdout",
     "output_type": "stream",
     "text": [
      "Enter first number \n",
      "40\n",
      "Enter second number \n",
      "50\n",
      "First number is smaller than second\n"
     ]
    }
   ],
   "source": [
    "number1 = int(input(\"Enter first number \\n\"))\n",
    "number2 = int(input(\"Enter second number \\n\"))\n",
    "\n",
    "\n",
    "if number1 == number2:\n",
    "    print(\"Both numbers are same\")\n",
    "else:\n",
    "    if number1 > number2:\n",
    "        print(\"First number is bigger than second\")\n",
    "    else:\n",
    "        print(\"First number is smaller than second\")"
   ]
  },
  {
   "cell_type": "code",
   "execution_count": 4,
   "id": "d6aa2401",
   "metadata": {},
   "outputs": [
    {
     "name": "stdout",
     "output_type": "stream",
     "text": [
      "Enter a number\n",
      "5\n",
      "Number is odd\n"
     ]
    }
   ],
   "source": [
    "number = int(input(\"Enter a number\\n\")) # if number entered in string then it will throw error\n",
    "\n",
    "if number % 2 == 0 :  \n",
    "    print(\"Number is even\")\n",
    "else:\n",
    "    print(\"Number is odd\")"
   ]
  },
  {
   "cell_type": "code",
   "execution_count": 8,
   "id": "4f0ad67f",
   "metadata": {},
   "outputs": [
    {
     "name": "stdout",
     "output_type": "stream",
     "text": [
      "Enter a number\n",
      "34000\n",
      "save more money\n"
     ]
    }
   ],
   "source": [
    "salary = int(input(\"Enter a number\\n\"))\n",
    "\n",
    "if salary > 100000:\n",
    "    print(\"you can buy car as well home\")\n",
    "elif salary == 100000:\n",
    "    print(\"you can buy car only\")\n",
    "elif salary > 50000 and salary < 100000:\n",
    "    print(\"you can buy bike\")\n",
    "else:\n",
    "    print(\"save more money\")"
   ]
  },
  {
   "cell_type": "code",
   "execution_count": 11,
   "id": "7b53de26",
   "metadata": {},
   "outputs": [
    {
     "name": "stdout",
     "output_type": "stream",
     "text": [
      "Enter your username: admine\n",
      "Enter your password: 123456\n",
      "Unknown user. Please try again.\n"
     ]
    }
   ],
   "source": [
    "username = input(\"Enter your username: \")\n",
    "password = input(\"Enter your password: \")\n",
    "\n",
    "\n",
    "if username == \"admin\":\n",
    "    if password == \"password\":\n",
    "        print(\"Login successful! Welcome, admin.\")\n",
    "    elif password == \"12345\":\n",
    "        print(\"Weak password. Please reset your password.\")\n",
    "    else:\n",
    "        print(\"Incorrect password. Please try again.\")\n",
    "else:\n",
    "    if username == \"guest\":\n",
    "        if password == \"guest\":\n",
    "            print(\"Login successful! Welcome, guest.\")\n",
    "        else:\n",
    "            print(\"Incorrect password. Please try again.\")\n",
    "    else:\n",
    "        print(\"Unknown user. Please try again.\")"
   ]
  },
  {
   "cell_type": "code",
   "execution_count": 12,
   "id": "bc709d8d",
   "metadata": {},
   "outputs": [
    {
     "name": "stdout",
     "output_type": "stream",
     "text": [
      "Enter the lenght in centimeter\n",
      "40\n",
      "40.0  cm =  15.748031496062993  inches\n"
     ]
    }
   ],
   "source": [
    "length_in_cm = input(\"Enter the lenght in centimeter\\n\")\n",
    "\n",
    "\n",
    "length_in_cm = float(length_in_cm)\n",
    "\n",
    "\n",
    "if length_in_cm < 0 :\n",
    "    print(\"You have entered negative value. \")\n",
    "else:\n",
    "    length_in_inches = length_in_cm / 2.54\n",
    "    print(length_in_cm, \" cm = \", length_in_inches, \" inches\")"
   ]
  },
  {
   "cell_type": "code",
   "execution_count": 19,
   "id": "263ae5f3",
   "metadata": {},
   "outputs": [
    {
     "name": "stdout",
     "output_type": "stream",
     "text": [
      "enter a number 31\n",
      "31 is a prime number\n"
     ]
    }
   ],
   "source": [
    "number =  int(input(\"enter a number \"))\n",
    "\n",
    "flag = False\n",
    "\n",
    "if number == 1:\n",
    "    print(number, \"is not a prime number\")\n",
    "elif number > 1:\n",
    "     \n",
    "    for i in range(2, number):\n",
    "        if (number % i) == 0:\n",
    "            flag = True\n",
    "            break\n",
    "    if flag:\n",
    "        print(number, \"is not a prime number\")\n",
    "    else:\n",
    "        print(number, \"is a prime number\")"
   ]
  },
  {
   "cell_type": "code",
   "execution_count": 18,
   "id": "82198cb8",
   "metadata": {},
   "outputs": [
    {
     "name": "stdout",
     "output_type": "stream",
     "text": [
      "type char u\n",
      "Vowel\n"
     ]
    }
   ],
   "source": [
    "x = input(\"type char \")\n",
    "\n",
    "if (x == 'a' or x == 'e' or x == 'i' or x == 'o' or x == 'u'): \n",
    "    print(\"Vowel\") \n",
    "else: \n",
    "    print(\"Consonant\") "
   ]
  },
  {
   "cell_type": "code",
   "execution_count": null,
   "id": "3fe93651",
   "metadata": {},
   "outputs": [],
   "source": []
  }
 ],
 "metadata": {
  "kernelspec": {
   "display_name": "Python 3 (ipykernel)",
   "language": "python",
   "name": "python3"
  },
  "language_info": {
   "codemirror_mode": {
    "name": "ipython",
    "version": 3
   },
   "file_extension": ".py",
   "mimetype": "text/x-python",
   "name": "python",
   "nbconvert_exporter": "python",
   "pygments_lexer": "ipython3",
   "version": "3.11.5"
  }
 },
 "nbformat": 4,
 "nbformat_minor": 5
}
